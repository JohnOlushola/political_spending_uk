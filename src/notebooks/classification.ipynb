{
 "cells": [
  {
   "cell_type": "markdown",
   "metadata": {},
   "source": [
    "# Classification"
   ]
  },
  {
   "cell_type": "code",
   "execution_count": 1,
   "metadata": {},
   "outputs": [],
   "source": [
    "import sys\n",
    "import os\n",
    "\n",
    "module_path = os.path.abspath(os.path.join(os.pardir, os.pardir))\n",
    "if module_path not in sys.path:\n",
    "    sys.path.append(module_path)"
   ]
  },
  {
   "cell_type": "code",
   "execution_count": 2,
   "metadata": {},
   "outputs": [],
   "source": [
    "from src.models.classifier import Classifier\n",
    "\n",
    "classifier = Classifier()"
   ]
  },
  {
   "cell_type": "markdown",
   "metadata": {},
   "source": [
    "### View data points"
   ]
  },
  {
   "cell_type": "code",
   "execution_count": 3,
   "metadata": {},
   "outputs": [
    {
     "data": {
      "text/html": [
       "<div>\n",
       "<style scoped>\n",
       "    .dataframe tbody tr th:only-of-type {\n",
       "        vertical-align: middle;\n",
       "    }\n",
       "\n",
       "    .dataframe tbody tr th {\n",
       "        vertical-align: top;\n",
       "    }\n",
       "\n",
       "    .dataframe thead th {\n",
       "        text-align: right;\n",
       "    }\n",
       "</style>\n",
       "<table border=\"1\" class=\"dataframe\">\n",
       "  <thead>\n",
       "    <tr style=\"text-align: right;\">\n",
       "      <th></th>\n",
       "      <th>0</th>\n",
       "      <th>1</th>\n",
       "      <th>2</th>\n",
       "    </tr>\n",
       "  </thead>\n",
       "  <tbody>\n",
       "    <tr>\n",
       "      <th>0</th>\n",
       "      <td>66836</td>\n",
       "      <td>GE 2019 Statics ALL .08</td>\n",
       "      <td>2.081</td>\n",
       "    </tr>\n",
       "    <tr>\n",
       "      <th>1</th>\n",
       "      <td>66836</td>\n",
       "      <td>2 GE2019 - AB Polling Day</td>\n",
       "      <td>4,941.61</td>\n",
       "    </tr>\n",
       "    <tr>\n",
       "      <th>2</th>\n",
       "      <td>66836</td>\n",
       "      <td>3 GE2019 - GOTV FS per 4 GE2019 - GOTV NHS per...</td>\n",
       "      <td>1,945.59</td>\n",
       "    </tr>\n",
       "    <tr>\n",
       "      <th>3</th>\n",
       "      <td>66836</td>\n",
       "      <td>5 GE2019 - JC - Jessi GOTV</td>\n",
       "      <td>5,006.62</td>\n",
       "    </tr>\n",
       "    <tr>\n",
       "      <th>4</th>\n",
       "      <td>66836</td>\n",
       "      <td>6 GE2019 - JC - Jessi story 7 GE2049 - JC - ri...</td>\n",
       "      <td>58,828.99</td>\n",
       "    </tr>\n",
       "    <tr>\n",
       "      <th>...</th>\n",
       "      <td>...</td>\n",
       "      <td>...</td>\n",
       "      <td>...</td>\n",
       "    </tr>\n",
       "    <tr>\n",
       "      <th>14713</th>\n",
       "      <td>68003</td>\n",
       "      <td>CCHQ Boris Johnson GE Campaign 2019 1 20 To th...</td>\n",
       "      <td>98,153.10</td>\n",
       "    </tr>\n",
       "    <tr>\n",
       "      <th>14714</th>\n",
       "      <td>68003</td>\n",
       "      <td>Payment details: Carriage:</td>\n",
       "      <td>£0.00</td>\n",
       "    </tr>\n",
       "    <tr>\n",
       "      <th>14715</th>\n",
       "      <td>68003</td>\n",
       "      <td>CCHQ Boris Johnson GE Campaign 2019 1 20 To th...</td>\n",
       "      <td>98,153.10</td>\n",
       "    </tr>\n",
       "    <tr>\n",
       "      <th>14716</th>\n",
       "      <td>68003</td>\n",
       "      <td>Payment details: Carriage:</td>\n",
       "      <td>£0.00</td>\n",
       "    </tr>\n",
       "    <tr>\n",
       "      <th>14717</th>\n",
       "      <td>68003</td>\n",
       "      <td></td>\n",
       "      <td>£96,187.50</td>\n",
       "    </tr>\n",
       "  </tbody>\n",
       "</table>\n",
       "<p>14718 rows × 3 columns</p>\n",
       "</div>"
      ],
      "text/plain": [
       "           0                                                  1           2\n",
       "0      66836                            GE 2019 Statics ALL .08       2.081\n",
       "1      66836                          2 GE2019 - AB Polling Day    4,941.61\n",
       "2      66836  3 GE2019 - GOTV FS per 4 GE2019 - GOTV NHS per...    1,945.59\n",
       "3      66836                         5 GE2019 - JC - Jessi GOTV    5,006.62\n",
       "4      66836  6 GE2019 - JC - Jessi story 7 GE2049 - JC - ri...   58,828.99\n",
       "...      ...                                                ...         ...\n",
       "14713  68003  CCHQ Boris Johnson GE Campaign 2019 1 20 To th...   98,153.10\n",
       "14714  68003                         Payment details: Carriage:       £0.00\n",
       "14715  68003  CCHQ Boris Johnson GE Campaign 2019 1 20 To th...   98,153.10\n",
       "14716  68003                         Payment details: Carriage:       £0.00\n",
       "14717  68003                                                     £96,187.50\n",
       "\n",
       "[14718 rows x 3 columns]"
      ]
     },
     "execution_count": 3,
     "metadata": {},
     "output_type": "execute_result"
    }
   ],
   "source": [
    "classifier.data_points"
   ]
  },
  {
   "cell_type": "code",
   "execution_count": 5,
   "metadata": {},
   "outputs": [
    {
     "name": "stdout",
     "output_type": "stream",
     "text": [
      "Classifying 14718 data points\n"
     ]
    }
   ],
   "source": [
    "classifier.classify()"
   ]
  },
  {
   "cell_type": "markdown",
   "metadata": {},
   "source": [
    "### View predictions"
   ]
  },
  {
   "cell_type": "code",
   "execution_count": null,
   "metadata": {},
   "outputs": [],
   "source": [
    "classifier.predictions_as_df\n"
   ]
  }
 ],
 "metadata": {
  "kernelspec": {
   "display_name": "Python 3.9.12 ('nlp')",
   "language": "python",
   "name": "python3"
  },
  "language_info": {
   "codemirror_mode": {
    "name": "ipython",
    "version": 3
   },
   "file_extension": ".py",
   "mimetype": "text/x-python",
   "name": "python",
   "nbconvert_exporter": "python",
   "pygments_lexer": "ipython3",
   "version": "3.9.12"
  },
  "orig_nbformat": 4,
  "vscode": {
   "interpreter": {
    "hash": "bfc06090c28f9a2b1bc5cad670ac112515b1c0f123b001add159cd7414fa589d"
   }
  }
 },
 "nbformat": 4,
 "nbformat_minor": 2
}
