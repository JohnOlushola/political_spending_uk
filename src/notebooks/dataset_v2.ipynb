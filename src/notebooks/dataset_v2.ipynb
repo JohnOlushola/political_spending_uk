{
 "cells": [
  {
   "cell_type": "markdown",
   "metadata": {},
   "source": [
    "# Dataset v2"
   ]
  },
  {
   "cell_type": "code",
   "execution_count": 1,
   "metadata": {},
   "outputs": [],
   "source": [
    "import sys\n",
    "import os\n",
    "\n",
    "module_path = os.path.abspath(os.path.join(os.pardir, os.pardir))\n",
    "if module_path not in sys.path:\n",
    "    sys.path.append(module_path)"
   ]
  },
  {
   "cell_type": "code",
   "execution_count": 2,
   "metadata": {},
   "outputs": [],
   "source": [
    "from src.utils.scrape_v2 import Scraper\n",
    "from src.config import default_path_to_csv\n",
    "\n",
    "scraper = Scraper()"
   ]
  },
  {
   "cell_type": "code",
   "execution_count": 3,
   "metadata": {},
   "outputs": [
    {
     "data": {
      "text/html": [
       "<div>\n",
       "<style scoped>\n",
       "    .dataframe tbody tr th:only-of-type {\n",
       "        vertical-align: middle;\n",
       "    }\n",
       "\n",
       "    .dataframe tbody tr th {\n",
       "        vertical-align: top;\n",
       "    }\n",
       "\n",
       "    .dataframe thead th {\n",
       "        text-align: right;\n",
       "    }\n",
       "</style>\n",
       "<table border=\"1\" class=\"dataframe\">\n",
       "  <thead>\n",
       "    <tr style=\"text-align: right;\">\n",
       "      <th></th>\n",
       "      <th>ECRef</th>\n",
       "      <th>RegulatedEntityName</th>\n",
       "      <th>ReportingPeriodName</th>\n",
       "      <th>RegulatedEntityType</th>\n",
       "      <th>TotalExpenditure</th>\n",
       "      <th>DateIncurred</th>\n",
       "      <th>ExpenseCategoryName</th>\n",
       "      <th>SupplierName</th>\n",
       "      <th>FullAddress</th>\n",
       "      <th>AmountInEngland</th>\n",
       "      <th>...</th>\n",
       "      <th>AmountInNorthernIreland</th>\n",
       "      <th>DateOfClaimForPayment</th>\n",
       "      <th>DatePaid</th>\n",
       "      <th>RedactedSupportingInvoiceId</th>\n",
       "      <th>RegulatedEntityId</th>\n",
       "      <th>SupplierId</th>\n",
       "      <th>JointCampaignName</th>\n",
       "      <th>UnregisteredCampaignerName</th>\n",
       "      <th>CampaigningName</th>\n",
       "      <th>IsOutsideSection75</th>\n",
       "    </tr>\n",
       "  </thead>\n",
       "  <tbody>\n",
       "    <tr>\n",
       "      <th>0</th>\n",
       "      <td>SP0521117</td>\n",
       "      <td>Labour Party</td>\n",
       "      <td>UK Parliamentary general election 12/12/2019</td>\n",
       "      <td>Political Party</td>\n",
       "      <td>£1,096,635.71</td>\n",
       "      <td>01/12/2019</td>\n",
       "      <td>Advertising</td>\n",
       "      <td>Facebook</td>\n",
       "      <td>4 Grand Canal Square, Dublin, ZZ0 0ZZ, Ireland...</td>\n",
       "      <td>£924,852.58</td>\n",
       "      <td>...</td>\n",
       "      <td>£0.00</td>\n",
       "      <td>02/01/2020</td>\n",
       "      <td>27/11/2019</td>\n",
       "      <td>66836.0</td>\n",
       "      <td>53</td>\n",
       "      <td>73787</td>\n",
       "      <td>NaN</td>\n",
       "      <td>NaN</td>\n",
       "      <td>NaN</td>\n",
       "      <td>False</td>\n",
       "    </tr>\n",
       "    <tr>\n",
       "      <th>1</th>\n",
       "      <td>SP0514293</td>\n",
       "      <td>Conservative and Unionist Party</td>\n",
       "      <td>UK Parliamentary general election 12/12/2019</td>\n",
       "      <td>Political Party</td>\n",
       "      <td>£895,279.53</td>\n",
       "      <td>08/12/2019</td>\n",
       "      <td>Unsolicited material to electors</td>\n",
       "      <td>Whistl (Doordrop Media) Ltd</td>\n",
       "      <td>Meridian House, Fieldhouse Lane, Marlow, SL7 1...</td>\n",
       "      <td>£832,609.96</td>\n",
       "      <td>...</td>\n",
       "      <td>£0.00</td>\n",
       "      <td>08/12/2019</td>\n",
       "      <td>08/01/2020</td>\n",
       "      <td>65844.0</td>\n",
       "      <td>52</td>\n",
       "      <td>72541</td>\n",
       "      <td>NaN</td>\n",
       "      <td>NaN</td>\n",
       "      <td>NaN</td>\n",
       "      <td>False</td>\n",
       "    </tr>\n",
       "    <tr>\n",
       "      <th>2</th>\n",
       "      <td>SP0520933</td>\n",
       "      <td>Labour Party</td>\n",
       "      <td>UK Parliamentary general election 12/12/2019</td>\n",
       "      <td>Political Party</td>\n",
       "      <td>£753,877.70</td>\n",
       "      <td>29/10/2019</td>\n",
       "      <td>Advertising</td>\n",
       "      <td>Facebook</td>\n",
       "      <td>4 Grand Canal Square, Dublin, ZZ0 0ZZ, Ireland...</td>\n",
       "      <td>£635,786.10</td>\n",
       "      <td>...</td>\n",
       "      <td>£0.00</td>\n",
       "      <td>08/01/2020</td>\n",
       "      <td>27/11/2019</td>\n",
       "      <td>66755.0</td>\n",
       "      <td>53</td>\n",
       "      <td>73787</td>\n",
       "      <td>NaN</td>\n",
       "      <td>NaN</td>\n",
       "      <td>NaN</td>\n",
       "      <td>False</td>\n",
       "    </tr>\n",
       "    <tr>\n",
       "      <th>3</th>\n",
       "      <td>SP0527697</td>\n",
       "      <td>Liberal Democrats</td>\n",
       "      <td>UK Parliamentary general election 12/12/2019</td>\n",
       "      <td>Political Party</td>\n",
       "      <td>£726,909.53</td>\n",
       "      <td>29/11/2019</td>\n",
       "      <td>Unsolicited material to electors</td>\n",
       "      <td>Paragon Customer Communications London Ltd</td>\n",
       "      <td>Evolution House, Choats Road, Dagenham, Essex,...</td>\n",
       "      <td>£618,646.41</td>\n",
       "      <td>...</td>\n",
       "      <td>£0.00</td>\n",
       "      <td>29/11/2019</td>\n",
       "      <td>10/01/2020</td>\n",
       "      <td>68767.0</td>\n",
       "      <td>90</td>\n",
       "      <td>75277</td>\n",
       "      <td>NaN</td>\n",
       "      <td>NaN</td>\n",
       "      <td>NaN</td>\n",
       "      <td>False</td>\n",
       "    </tr>\n",
       "    <tr>\n",
       "      <th>4</th>\n",
       "      <td>SP0509553</td>\n",
       "      <td>Conservative and Unionist Party</td>\n",
       "      <td>UK Parliamentary general election 12/12/2019</td>\n",
       "      <td>Political Party</td>\n",
       "      <td>£700,753.83</td>\n",
       "      <td>01/12/2019</td>\n",
       "      <td>Advertising</td>\n",
       "      <td>Facebook UK LTD</td>\n",
       "      <td>10 Brock Street, Regent's Place, London, NW1 3...</td>\n",
       "      <td>£595,640.76</td>\n",
       "      <td>...</td>\n",
       "      <td>£0.00</td>\n",
       "      <td>02/01/2020</td>\n",
       "      <td>02/12/2019</td>\n",
       "      <td>65153.0</td>\n",
       "      <td>52</td>\n",
       "      <td>57622</td>\n",
       "      <td>NaN</td>\n",
       "      <td>NaN</td>\n",
       "      <td>NaN</td>\n",
       "      <td>False</td>\n",
       "    </tr>\n",
       "  </tbody>\n",
       "</table>\n",
       "<p>5 rows × 22 columns</p>\n",
       "</div>"
      ],
      "text/plain": [
       "       ECRef              RegulatedEntityName  \\\n",
       "0  SP0521117                     Labour Party   \n",
       "1  SP0514293  Conservative and Unionist Party   \n",
       "2  SP0520933                     Labour Party   \n",
       "3  SP0527697                Liberal Democrats   \n",
       "4  SP0509553  Conservative and Unionist Party   \n",
       "\n",
       "                            ReportingPeriodName RegulatedEntityType  \\\n",
       "0  UK Parliamentary general election 12/12/2019     Political Party   \n",
       "1  UK Parliamentary general election 12/12/2019     Political Party   \n",
       "2  UK Parliamentary general election 12/12/2019     Political Party   \n",
       "3  UK Parliamentary general election 12/12/2019     Political Party   \n",
       "4  UK Parliamentary general election 12/12/2019     Political Party   \n",
       "\n",
       "  TotalExpenditure DateIncurred               ExpenseCategoryName  \\\n",
       "0    £1,096,635.71   01/12/2019                       Advertising   \n",
       "1      £895,279.53   08/12/2019  Unsolicited material to electors   \n",
       "2      £753,877.70   29/10/2019                       Advertising   \n",
       "3      £726,909.53   29/11/2019  Unsolicited material to electors   \n",
       "4      £700,753.83   01/12/2019                       Advertising   \n",
       "\n",
       "                                 SupplierName  \\\n",
       "0                                    Facebook   \n",
       "1                 Whistl (Doordrop Media) Ltd   \n",
       "2                                    Facebook   \n",
       "3  Paragon Customer Communications London Ltd   \n",
       "4                             Facebook UK LTD   \n",
       "\n",
       "                                         FullAddress AmountInEngland  ...  \\\n",
       "0  4 Grand Canal Square, Dublin, ZZ0 0ZZ, Ireland...     £924,852.58  ...   \n",
       "1  Meridian House, Fieldhouse Lane, Marlow, SL7 1...     £832,609.96  ...   \n",
       "2  4 Grand Canal Square, Dublin, ZZ0 0ZZ, Ireland...     £635,786.10  ...   \n",
       "3  Evolution House, Choats Road, Dagenham, Essex,...     £618,646.41  ...   \n",
       "4  10 Brock Street, Regent's Place, London, NW1 3...     £595,640.76  ...   \n",
       "\n",
       "  AmountInNorthernIreland DateOfClaimForPayment    DatePaid  \\\n",
       "0                   £0.00            02/01/2020  27/11/2019   \n",
       "1                   £0.00            08/12/2019  08/01/2020   \n",
       "2                   £0.00            08/01/2020  27/11/2019   \n",
       "3                   £0.00            29/11/2019  10/01/2020   \n",
       "4                   £0.00            02/01/2020  02/12/2019   \n",
       "\n",
       "  RedactedSupportingInvoiceId RegulatedEntityId  SupplierId  \\\n",
       "0                     66836.0                53       73787   \n",
       "1                     65844.0                52       72541   \n",
       "2                     66755.0                53       73787   \n",
       "3                     68767.0                90       75277   \n",
       "4                     65153.0                52       57622   \n",
       "\n",
       "   JointCampaignName  UnregisteredCampaignerName  CampaigningName  \\\n",
       "0                NaN                         NaN              NaN   \n",
       "1                NaN                         NaN              NaN   \n",
       "2                NaN                         NaN              NaN   \n",
       "3                NaN                         NaN              NaN   \n",
       "4                NaN                         NaN              NaN   \n",
       "\n",
       "   IsOutsideSection75  \n",
       "0               False  \n",
       "1               False  \n",
       "2               False  \n",
       "3               False  \n",
       "4               False  \n",
       "\n",
       "[5 rows x 22 columns]"
      ]
     },
     "execution_count": 3,
     "metadata": {},
     "output_type": "execute_result"
    }
   ],
   "source": [
    "scraper._csv.head(5)"
   ]
  },
  {
   "cell_type": "markdown",
   "metadata": {},
   "source": [
    "### Get data from invoice pdf file"
   ]
  },
  {
   "cell_type": "code",
   "execution_count": 4,
   "metadata": {},
   "outputs": [
    {
     "name": "stdout",
     "output_type": "stream",
     "text": [
      "Invoice ID: 66836\n"
     ]
    }
   ],
   "source": [
    "invoice_id = scraper.cleaned_column[0]\n",
    "print(f\"Invoice ID: {invoice_id}\")"
   ]
  },
  {
   "cell_type": "code",
   "execution_count": 5,
   "metadata": {},
   "outputs": [],
   "source": [
    "invoice = scraper.get_invoice(invoice_id)"
   ]
  },
  {
   "cell_type": "code",
   "execution_count": 6,
   "metadata": {},
   "outputs": [
    {
     "data": {
      "text/plain": [
       "[(66836, 'GE 2019 Statics ALL .08', '2.081'),\n",
       " (66836, '2 GE2019 - AB Polling Day', '4,941.61'),\n",
       " (66836,\n",
       "  '3 GE2019 - GOTV FS per 4 GE2019 - GOTV NHS per 1,822 04',\n",
       "  '1,945.59'),\n",
       " (66836, '5 GE2019 - JC - Jessi GOTV', '5,006.62'),\n",
       " (66836,\n",
       "  '6 GE2019 - JC - Jessi story 7 GE2049 - JC - right track 2,977 62',\n",
       "  '58,828.99'),\n",
       " (66836, '8 GE2019 - JC - top tax bracket', '6,531.82'),\n",
       " (66836, '9 GE2619 - JMCD - Scotland', '7,385.38'),\n",
       " (66836, '10 GE2019 - LGI article', '44,084.51'),\n",
       " (66836, '11 GE2019 - miner endorsement', '12.507.48'),\n",
       " (66836, '12 GE2019 - mirror boris quote', '2,734.29'),\n",
       " (66836, '13 GE2019 - Pensions Conversion campaign — Version 2', '35,000.00'),\n",
       " (66836, '14 GE2019 - Pensions GOTV', '2,785.25'),\n",
       " (66836, '15 GE2019 - personal manifesto', '6,446.90'),\n",
       " (66836,\n",
       "  '16 GE2019 - Polling Day - rail fares INVOICE NUMBER MUST BE REFERENCED ON ALL PAYMENTS',\n",
       "  '3,993.60'),\n",
       " (66836, 'Freight:', '0.06')]"
      ]
     },
     "execution_count": 6,
     "metadata": {},
     "output_type": "execute_result"
    }
   ],
   "source": [
    "invoice"
   ]
  },
  {
   "cell_type": "markdown",
   "metadata": {},
   "source": [
    "### Fetch data from all invoices"
   ]
  },
  {
   "cell_type": "code",
   "execution_count": 7,
   "metadata": {},
   "outputs": [],
   "source": [
    "# scraper.get_all_invoices()"
   ]
  },
  {
   "cell_type": "code",
   "execution_count": null,
   "metadata": {},
   "outputs": [],
   "source": []
  }
 ],
 "metadata": {
  "kernelspec": {
   "display_name": "Python 3.9.12 ('nlp')",
   "language": "python",
   "name": "python3"
  },
  "language_info": {
   "codemirror_mode": {
    "name": "ipython",
    "version": 3
   },
   "file_extension": ".py",
   "mimetype": "text/x-python",
   "name": "python",
   "nbconvert_exporter": "python",
   "pygments_lexer": "ipython3",
   "version": "3.9.12"
  },
  "orig_nbformat": 4,
  "vscode": {
   "interpreter": {
    "hash": "bfc06090c28f9a2b1bc5cad670ac112515b1c0f123b001add159cd7414fa589d"
   }
  }
 },
 "nbformat": 4,
 "nbformat_minor": 2
}
